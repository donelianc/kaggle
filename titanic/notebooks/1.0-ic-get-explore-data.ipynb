{
 "cells": [
  {
   "cell_type": "markdown",
   "metadata": {},
   "source": [
    "## 0. Modules and Custom Functions"
   ]
  },
  {
   "cell_type": "code",
   "execution_count": 1,
   "metadata": {},
   "outputs": [],
   "source": [
    "from matplotlib.pyplot import style, rcParams, subplots\n",
    "from pandas import read_csv, Categorical"
   ]
  },
  {
   "cell_type": "code",
   "execution_count": 15,
   "metadata": {},
   "outputs": [],
   "source": [
    "style.use(\"ggplot\")\n",
    "ggcolors = rcParams['axes.prop_cycle'].by_key()['color']\n",
    "rcParams[\"figure.figsize\"] = (12, 8)"
   ]
  },
  {
   "cell_type": "code",
   "execution_count": 3,
   "metadata": {},
   "outputs": [],
   "source": [
    "def get_features(df):\n",
    "    \n",
    "    numerical, categorical, dates, other = [], [], [], []\n",
    "    \n",
    "    columns = df.columns.tolist()\n",
    "    for c in columns:\n",
    "        if df[c].dtype in [\"int64\", \"float64\"]:\n",
    "            numerical.append(c)\n",
    "        elif df[c].dtype == \"object\":\n",
    "            categorical.append(c)\n",
    "        elif df[c].dtype == \"datetime64[ns]\":\n",
    "            dates.append(c)\n",
    "        else:\n",
    "            other.append(c)\n",
    "                \n",
    "    return numerical, categorical, dates, other"
   ]
  },
  {
   "cell_type": "code",
   "execution_count": 92,
   "metadata": {},
   "outputs": [],
   "source": [
    "def get_title(df):\n",
    "    lastname_removed = df[\"name\"].str.split(\",\").apply(lambda x: x[1])\n",
    "    title = lastname_removed.str.split(\".\").apply(lambda x: x[0])\n",
    "    clean_title = title.str.lower().str.strip()\n",
    "    cat = clean_title.apply(lambda t: \"other\" if t not in [\"mr\", \"mrs\", \"ms\", \"miss\"] else t)\n",
    "    return cat"
   ]
  },
  {
   "cell_type": "markdown",
   "metadata": {},
   "source": [
    "## 1. Get Data"
   ]
  },
  {
   "cell_type": "code",
   "execution_count": 4,
   "metadata": {},
   "outputs": [],
   "source": [
    "data = read_csv(\"../data/raw/train.csv\")\n",
    "data = data.rename(columns=dict(zip(data.columns, data.columns.str.lower())))\n",
    "data = data.set_index(\"passengerid\")"
   ]
  },
  {
   "cell_type": "code",
   "execution_count": 5,
   "metadata": {},
   "outputs": [
    {
     "data": {
      "text/html": [
       "<div>\n",
       "<style scoped>\n",
       "    .dataframe tbody tr th:only-of-type {\n",
       "        vertical-align: middle;\n",
       "    }\n",
       "\n",
       "    .dataframe tbody tr th {\n",
       "        vertical-align: top;\n",
       "    }\n",
       "\n",
       "    .dataframe thead th {\n",
       "        text-align: right;\n",
       "    }\n",
       "</style>\n",
       "<table border=\"1\" class=\"dataframe\">\n",
       "  <thead>\n",
       "    <tr style=\"text-align: right;\">\n",
       "      <th></th>\n",
       "      <th>survived</th>\n",
       "      <th>pclass</th>\n",
       "      <th>name</th>\n",
       "      <th>sex</th>\n",
       "      <th>age</th>\n",
       "      <th>sibsp</th>\n",
       "      <th>parch</th>\n",
       "      <th>ticket</th>\n",
       "      <th>fare</th>\n",
       "      <th>cabin</th>\n",
       "      <th>embarked</th>\n",
       "    </tr>\n",
       "    <tr>\n",
       "      <th>passengerid</th>\n",
       "      <th></th>\n",
       "      <th></th>\n",
       "      <th></th>\n",
       "      <th></th>\n",
       "      <th></th>\n",
       "      <th></th>\n",
       "      <th></th>\n",
       "      <th></th>\n",
       "      <th></th>\n",
       "      <th></th>\n",
       "      <th></th>\n",
       "    </tr>\n",
       "  </thead>\n",
       "  <tbody>\n",
       "    <tr>\n",
       "      <th>1</th>\n",
       "      <td>0</td>\n",
       "      <td>3</td>\n",
       "      <td>Braund, Mr. Owen Harris</td>\n",
       "      <td>male</td>\n",
       "      <td>22.0</td>\n",
       "      <td>1</td>\n",
       "      <td>0</td>\n",
       "      <td>A/5 21171</td>\n",
       "      <td>7.2500</td>\n",
       "      <td>NaN</td>\n",
       "      <td>S</td>\n",
       "    </tr>\n",
       "    <tr>\n",
       "      <th>2</th>\n",
       "      <td>1</td>\n",
       "      <td>1</td>\n",
       "      <td>Cumings, Mrs. John Bradley (Florence Briggs Th...</td>\n",
       "      <td>female</td>\n",
       "      <td>38.0</td>\n",
       "      <td>1</td>\n",
       "      <td>0</td>\n",
       "      <td>PC 17599</td>\n",
       "      <td>71.2833</td>\n",
       "      <td>C85</td>\n",
       "      <td>C</td>\n",
       "    </tr>\n",
       "    <tr>\n",
       "      <th>3</th>\n",
       "      <td>1</td>\n",
       "      <td>3</td>\n",
       "      <td>Heikkinen, Miss. Laina</td>\n",
       "      <td>female</td>\n",
       "      <td>26.0</td>\n",
       "      <td>0</td>\n",
       "      <td>0</td>\n",
       "      <td>STON/O2. 3101282</td>\n",
       "      <td>7.9250</td>\n",
       "      <td>NaN</td>\n",
       "      <td>S</td>\n",
       "    </tr>\n",
       "    <tr>\n",
       "      <th>4</th>\n",
       "      <td>1</td>\n",
       "      <td>1</td>\n",
       "      <td>Futrelle, Mrs. Jacques Heath (Lily May Peel)</td>\n",
       "      <td>female</td>\n",
       "      <td>35.0</td>\n",
       "      <td>1</td>\n",
       "      <td>0</td>\n",
       "      <td>113803</td>\n",
       "      <td>53.1000</td>\n",
       "      <td>C123</td>\n",
       "      <td>S</td>\n",
       "    </tr>\n",
       "    <tr>\n",
       "      <th>5</th>\n",
       "      <td>0</td>\n",
       "      <td>3</td>\n",
       "      <td>Allen, Mr. William Henry</td>\n",
       "      <td>male</td>\n",
       "      <td>35.0</td>\n",
       "      <td>0</td>\n",
       "      <td>0</td>\n",
       "      <td>373450</td>\n",
       "      <td>8.0500</td>\n",
       "      <td>NaN</td>\n",
       "      <td>S</td>\n",
       "    </tr>\n",
       "  </tbody>\n",
       "</table>\n",
       "</div>"
      ],
      "text/plain": [
       "             survived  pclass  \\\n",
       "passengerid                     \n",
       "1                   0       3   \n",
       "2                   1       1   \n",
       "3                   1       3   \n",
       "4                   1       1   \n",
       "5                   0       3   \n",
       "\n",
       "                                                          name     sex   age  \\\n",
       "passengerid                                                                    \n",
       "1                                      Braund, Mr. Owen Harris    male  22.0   \n",
       "2            Cumings, Mrs. John Bradley (Florence Briggs Th...  female  38.0   \n",
       "3                                       Heikkinen, Miss. Laina  female  26.0   \n",
       "4                 Futrelle, Mrs. Jacques Heath (Lily May Peel)  female  35.0   \n",
       "5                                     Allen, Mr. William Henry    male  35.0   \n",
       "\n",
       "             sibsp  parch            ticket     fare cabin embarked  \n",
       "passengerid                                                          \n",
       "1                1      0         A/5 21171   7.2500   NaN        S  \n",
       "2                1      0          PC 17599  71.2833   C85        C  \n",
       "3                0      0  STON/O2. 3101282   7.9250   NaN        S  \n",
       "4                1      0            113803  53.1000  C123        S  \n",
       "5                0      0            373450   8.0500   NaN        S  "
      ]
     },
     "execution_count": 5,
     "metadata": {},
     "output_type": "execute_result"
    }
   ],
   "source": [
    "data.head()"
   ]
  },
  {
   "cell_type": "markdown",
   "metadata": {},
   "source": [
    "## 2. Data Transformation"
   ]
  },
  {
   "cell_type": "code",
   "execution_count": 6,
   "metadata": {},
   "outputs": [
    {
     "name": "stdout",
     "output_type": "stream",
     "text": [
      "<class 'pandas.core.frame.DataFrame'>\n",
      "Int64Index: 891 entries, 1 to 891\n",
      "Data columns (total 11 columns):\n",
      " #   Column    Non-Null Count  Dtype  \n",
      "---  ------    --------------  -----  \n",
      " 0   survived  891 non-null    int64  \n",
      " 1   pclass    891 non-null    int64  \n",
      " 2   name      891 non-null    object \n",
      " 3   sex       891 non-null    object \n",
      " 4   age       714 non-null    float64\n",
      " 5   sibsp     891 non-null    int64  \n",
      " 6   parch     891 non-null    int64  \n",
      " 7   ticket    891 non-null    object \n",
      " 8   fare      891 non-null    float64\n",
      " 9   cabin     204 non-null    object \n",
      " 10  embarked  889 non-null    object \n",
      "dtypes: float64(2), int64(4), object(5)\n",
      "memory usage: 83.5+ KB\n"
     ]
    }
   ],
   "source": [
    "data.info()"
   ]
  },
  {
   "cell_type": "code",
   "execution_count": 144,
   "metadata": {},
   "outputs": [],
   "source": [
    "df_interim = data.copy()"
   ]
  },
  {
   "cell_type": "code",
   "execution_count": 145,
   "metadata": {},
   "outputs": [],
   "source": [
    "df_interim = df_interim.rename(columns={\"survived\": \"target\"})"
   ]
  },
  {
   "cell_type": "code",
   "execution_count": 146,
   "metadata": {},
   "outputs": [],
   "source": [
    "def get_women_marital_status(gender, title):\n",
    "    if (gender == \"female\") and (title in [\"mrs\", \"ms\"]):\n",
    "        marital_status = True\n",
    "    elif gender == \"male\":\n",
    "        marital_status = None\n",
    "    else:\n",
    "        marital_status = False\n",
    "    return marital_status"
   ]
  },
  {
   "cell_type": "code",
   "execution_count": 147,
   "metadata": {},
   "outputs": [],
   "source": [
    "df_interim[\"pclass\"] = Categorical(df_interim[\"pclass\"].map({3:\"low\", 2:\"mid\", 1:\"high\"}), categories=[\"low\", \"mid\", \"high\"], ordered=True)\n",
    "df_interim[\"title\"] = get_title(df_interim)\n",
    "df_interim[\"women_marital_status\"] = df_interim.apply(lambda x: get_women_marital_status(x[\"sex\"], x[\"title\"]), axis=1)"
   ]
  },
  {
   "cell_type": "markdown",
   "metadata": {},
   "source": [
    "## 3. Exploratory Data Analysis"
   ]
  },
  {
   "cell_type": "code",
   "execution_count": 148,
   "metadata": {},
   "outputs": [
    {
     "data": {
      "text/plain": [
       "cabin                   0.771044\n",
       "women_marital_status    0.647587\n",
       "age                     0.198653\n",
       "embarked                0.002245\n",
       "target                  0.000000\n",
       "pclass                  0.000000\n",
       "name                    0.000000\n",
       "sex                     0.000000\n",
       "sibsp                   0.000000\n",
       "parch                   0.000000\n",
       "ticket                  0.000000\n",
       "fare                    0.000000\n",
       "title                   0.000000\n",
       "dtype: float64"
      ]
     },
     "execution_count": 148,
     "metadata": {},
     "output_type": "execute_result"
    }
   ],
   "source": [
    "df_interim.isna().sum().sort_values(ascending=False) / len(df_interim)"
   ]
  },
  {
   "cell_type": "code",
   "execution_count": 157,
   "metadata": {},
   "outputs": [],
   "source": [
    "def plot_perc_from_total(kind, df, column, title, color, dropna, sort_index, ax=None):\n",
    "    sort_index = sort_index or False\n",
    "    dropna = dropna or False\n",
    "    \n",
    "    counts = df[column].value_counts(normalize=True, dropna=dropna)\n",
    "    if sort_index:\n",
    "        counts = counts.sort_index(ascending=True)\n",
    "    if ax is not None:\n",
    "        counts.plot(kind=kind, title=title, color=color, ax=ax)\n",
    "        for label in ax.get_xticklabels():\n",
    "            label.set_rotation(0)\n",
    "    \n",
    "    return counts"
   ]
  },
  {
   "cell_type": "code",
   "execution_count": 158,
   "metadata": {},
   "outputs": [
    {
     "data": {
      "image/png": "[encoded data removed]",
      "text/plain": [
       "<Figure size 1296x864 with 9 Axes>"
      ]
     },
     "metadata": {},
     "output_type": "display_data"
    }
   ],
   "source": [
    "fig, axs = subplots(3, 3, figsize=(18, 12), sharey=True)\n",
    "\n",
    "target_counts = plot_perc_from_total(\"bar\", df_interim, \"target\", \"Target\", ggcolors[1], False, False, axs[0, 0])\n",
    "tck_class_counts = plot_perc_from_total(\"bar\", df_interim, \"pclass\", \"Ticket Class\", ggcolors[1], False, True, axs[0, 1])\n",
    "sex_counts = plot_perc_from_total(\"bar\", df_interim, \"sex\", \"Gender\", ggcolors[1], False, False, axs[0, 2])\n",
    "title_counts = plot_perc_from_total(\"bar\", df_interim, \"title\", \"Passenger's Title\", ggcolors[1], False, False, axs[1, 0])\n",
    "wms_counts = plot_perc_from_total(\"bar\", df_interim, \"women_marital_status\", \"Marital Status (only women)\", ggcolors[1], False, False, axs[1, 1])\n",
    "sibsp_counts = plot_perc_from_total(\"bar\", df_interim, \"sibsp\", \"# of Siblings/Spouses Aboard\", ggcolors[1], False, True, axs[1, 2])\n",
    "parch_counts = plot_perc_from_total(\"bar\", df_interim, \"parch\", \"# of Parents/Children Aboard\", ggcolors[1], False, True, axs[2, 0])"
   ]
  },
  {
   "cell_type": "code",
   "execution_count": 164,
   "metadata": {},
   "outputs": [],
   "source": [
    "numerical, categorical, dates, other = get_features(df_interim.drop(\"target\", axis=1, inplace=False))"
   ]
  },
  {
   "cell_type": "code",
   "execution_count": null,
   "metadata": {},
   "outputs": [],
   "source": []
  }
 ],
 "metadata": {
  "interpreter": {
   "hash": "074b9f724f1d9eaa72a7bf9448db882ca85c32b6a0c8eb634a4063877ce6f936"
  },
  "kernelspec": {
   "display_name": "Python 3.9.7 64-bit ('titanic-env-py397': conda)",
   "name": "python3"
  },
  "language_info": {
   "codemirror_mode": {
    "name": "ipython",
    "version": 3
   },
   "file_extension": ".py",
   "mimetype": "text/x-python",
   "name": "python",
   "nbconvert_exporter": "python",
   "pygments_lexer": "ipython3",
   "version": "3.9.7"
  },
  "orig_nbformat": 4
 },
 "nbformat": 4,
 "nbformat_minor": 2
}
