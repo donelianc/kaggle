{
 "cells": [
  {
   "cell_type": "markdown",
   "metadata": {},
   "source": [
    "## 0. Modules and Custom Functions"
   ]
  },
  {
   "cell_type": "code",
   "execution_count": 33,
   "metadata": {},
   "outputs": [],
   "source": [
    "from logging import getLogger\n",
    "\n",
    "from datetime import datetime as dt\n",
    "from numpy import nan\n",
    "from pandas import Categorical, DataFrame, read_csv, cut\n",
    "\n",
    "from matplotlib.pyplot import plot\n",
    "from matplotlib.pyplot import style, rcParams\n",
    "\n",
    "from sklearn.pipeline import Pipeline\n",
    "from sklearn.preprocessing import FunctionTransformer\n",
    "from sklearn.compose import make_column_transformer\n",
    "from sklearn.compose import make_column_selector\n",
    "from sklearn.impute import SimpleImputer\n",
    "from sklearn.preprocessing import StandardScaler, OneHotEncoder\n",
    "from sklearn.model_selection import train_test_split\n",
    "from sklearn.linear_model import LogisticRegression\n",
    "from sklearn.metrics import accuracy_score, confusion_matrix, f1_score, roc_auc_score, plot_roc_curve"
   ]
  },
  {
   "cell_type": "code",
   "execution_count": 2,
   "metadata": {},
   "outputs": [],
   "source": [
    "logger = getLogger(\"log-reg\").setLevel(\"INFO\")"
   ]
  },
  {
   "cell_type": "code",
   "execution_count": 3,
   "metadata": {},
   "outputs": [],
   "source": [
    "style.use(\"ggplot\")\n",
    "ggcolors = rcParams['axes.prop_cycle'].by_key()['color']\n",
    "rcParams[\"figure.figsize\"] = (18, 8)"
   ]
  },
  {
   "cell_type": "code",
   "execution_count": 4,
   "metadata": {},
   "outputs": [],
   "source": [
    "def get_features(df):\n",
    "    \n",
    "    numerical = df.select_dtypes(include=[\"int64\", \"float64\"]).columns.tolist()\n",
    "    categorical = df.select_dtypes(include=[\"object\", \"category\"]).columns.tolist()\n",
    "    dates = df.select_dtypes(include=[\"datetime\", \"datetime64[ns]\"]).columns.tolist()\n",
    "    other = df.columns.difference(numerical + categorical + dates).tolist()\n",
    "    \n",
    "    return numerical, categorical, dates, other"
   ]
  },
  {
   "cell_type": "code",
   "execution_count": 5,
   "metadata": {},
   "outputs": [],
   "source": [
    "def get_women_marital_status(gender, title):\n",
    "    if (gender == \"female\") and (title in [\"mrs\", \"ms\"]):\n",
    "        marital_status = \"married\"\n",
    "    elif gender == \"male\":\n",
    "        marital_status = \"missing\"\n",
    "    else:\n",
    "        marital_status = \"not_married\"\n",
    "    return marital_status\n",
    "    "
   ]
  },
  {
   "cell_type": "markdown",
   "metadata": {},
   "source": [
    "## 1. Get Data"
   ]
  },
  {
   "cell_type": "code",
   "execution_count": 6,
   "metadata": {},
   "outputs": [],
   "source": [
    "data = read_csv(\"../data/raw/train.csv\")\n",
    "data = data.rename(columns=dict(zip(data.columns, data.columns.str.lower())))\n",
    "data = data.set_index(\"passengerid\")"
   ]
  },
  {
   "cell_type": "code",
   "execution_count": 7,
   "metadata": {},
   "outputs": [],
   "source": [
    "numerical, categorical, dates, other = get_features(data.drop(\"survived\", axis=1, inplace=False))"
   ]
  },
  {
   "cell_type": "markdown",
   "metadata": {},
   "source": [
    "## 2. Data Transformation"
   ]
  },
  {
   "cell_type": "code",
   "execution_count": 8,
   "metadata": {},
   "outputs": [],
   "source": [
    "def create_category_features(df):\n",
    "    df_aux = df.copy()\n",
    "    \n",
    "    df_aux.loc[:, \"pclass\"] = Categorical(\n",
    "        df_aux[\"pclass\"].map({3:\"low\", 2:\"mid\", 1:\"high\"}), \n",
    "        categories=[\"low\", \"mid\", \"high\"], \n",
    "        ordered=True\n",
    "        )\n",
    "    \n",
    "    df_aux.loc[:, \"age_group\"] = cut(df_aux[\"age\"], range(0, 90, 10))\n",
    "    df_aux.loc[:, \"fare_group\"] = cut(df_aux[\"fare\"], list(range(0, 300, 50)) + [999999], include_lowest=True, right=False)\n",
    "    \n",
    "    return df_aux\n",
    "\n",
    "\n",
    "def create_title_features(df):\n",
    "    df_aux = df.copy()\n",
    "    \n",
    "    lastname_removed = df_aux[\"name\"].str.split(\",\").apply(lambda x: x[1])\n",
    "    title = lastname_removed.str.split(\".\").apply(lambda x: x[0])\n",
    "    clean_title = title.str.lower().str.strip()\n",
    "    \n",
    "    df_aux.loc[:, \"title\"] = clean_title.apply(lambda t: \"other\" if t not in [\"mr\", \"mrs\", \"ms\", \"miss\"] else t)\n",
    "    df_aux.loc[:, \"married_female\"] = df_aux.apply(lambda x: get_women_marital_status(x[\"sex\"], x[\"title\"]), axis=1)\n",
    "    \n",
    "    return df_aux\n",
    "\n",
    "\n",
    "def create_ticket_features(df):\n",
    "    \n",
    "    df_aux = df.copy()\n",
    "    \n",
    "    df_aux[\"travel_alone\"] = (~df_aux.duplicated(subset=['ticket'], keep=False)).map({True:\"alone\", False:\"accompanied\"})\n",
    "    \n",
    "    return df_aux\n",
    "\n",
    "\n",
    "def create_adult_features(df):\n",
    "    \n",
    "    df_aux = df.copy()\n",
    "    \n",
    "    df_aux[\"adult\"] = nan\n",
    "    df_aux.loc[~df_aux[\"age\"].isna(), \"adult\"] = df_aux[\"age\"][~df_aux[\"age\"].isna()].apply(lambda x: 18 < x).copy()\n",
    "    df_aux[\"adult\"] = df_aux[\"adult\"].map({True: \"adult\", False: \"child\"}).fillna(\"missing\")\n",
    "    \n",
    "    return df_aux"
   ]
  },
  {
   "cell_type": "code",
   "execution_count": 9,
   "metadata": {},
   "outputs": [],
   "source": [
    "get_categories = FunctionTransformer(create_category_features, validate=False)\n",
    "get_titles = FunctionTransformer(create_title_features, validate=False)\n",
    "get_tickets = FunctionTransformer(create_ticket_features, validate=False)\n",
    "get_adults = FunctionTransformer(create_adult_features, validate=False)"
   ]
  },
  {
   "cell_type": "markdown",
   "metadata": {},
   "source": [
    "## 3. Missing Data Imputation"
   ]
  },
  {
   "cell_type": "code",
   "execution_count": 10,
   "metadata": {},
   "outputs": [],
   "source": [
    "def impute_missing_values(df, cats, nums):\n",
    "    df_aux = df.copy()\n",
    "    \n",
    "    categorical_imputer = SimpleImputer(strategy=\"constant\", fill_value=\"missing\")\n",
    "    numerical_imputer = SimpleImputer(strategy=\"median\")\n",
    "    \n",
    "    for cat in cats:\n",
    "        df_aux[cat] = categorical_imputer.fit_transform(df[cat].to_numpy().reshape(-1, 1))\n",
    "        \n",
    "    for num in nums:\n",
    "        df_aux[num] = numerical_imputer.fit_transform(df[num].to_numpy().reshape(-1, 1))\n",
    "        \n",
    "    return df_aux"
   ]
  },
  {
   "cell_type": "code",
   "execution_count": 11,
   "metadata": {},
   "outputs": [],
   "source": [
    "impute_missing = FunctionTransformer(\n",
    "    impute_missing_values, \n",
    "    validate=False,\n",
    "    kw_args={\"nums\": [\"age\", \"fare\"], \"cats\": [\"embarked\"]}\n",
    "    )"
   ]
  },
  {
   "cell_type": "markdown",
   "metadata": {},
   "source": [
    "## 4. Encoding and Scaling"
   ]
  },
  {
   "cell_type": "code",
   "execution_count": 12,
   "metadata": {},
   "outputs": [],
   "source": [
    "encoders = make_column_transformer(\n",
    "    (\n",
    "        OneHotEncoder(handle_unknown=\"ignore\", sparse=False),\n",
    "        [\n",
    "            \"pclass\", \"name\", \"sex\", \"cabin\", \"embarked\", \"age_group\", \n",
    "            \"fare_group\", \"title\", \"married_female\", \"travel_alone\", \"adult\"\n",
    "            ]\n",
    "        ), \n",
    "    (StandardScaler(), [\"age\", \"sibsp\", \"parch\", \"fare\"])\n",
    "    , remainder='drop'\n",
    "    )"
   ]
  },
  {
   "cell_type": "markdown",
   "metadata": {},
   "source": [
    "## 5. Model Training"
   ]
  },
  {
   "cell_type": "code",
   "execution_count": 13,
   "metadata": {},
   "outputs": [],
   "source": [
    "model = LogisticRegression(C=5.0, solver=\"liblinear\", max_iter=1000)"
   ]
  },
  {
   "cell_type": "code",
   "execution_count": 17,
   "metadata": {},
   "outputs": [],
   "source": [
    "pipe = Pipeline(steps=[\n",
    "    (\"impute\", impute_missing),\n",
    "    (\"categories\", get_categories),\n",
    "    (\"titles\", get_titles),\n",
    "    (\"tickets\", get_tickets),\n",
    "    (\"ages\", get_adults), \n",
    "    (\"encoders\", encoders),\n",
    "    (\"model\", model)\n",
    "], verbose=True)"
   ]
  },
  {
   "cell_type": "code",
   "execution_count": 18,
   "metadata": {},
   "outputs": [],
   "source": [
    "df_model = data.copy()\n",
    "\n",
    "X = df_model[numerical + categorical]\n",
    "y = df_model[\"survived\"]\n",
    "X_train, X_test, y_train, y_test = train_test_split(X, y, test_size = 0.3)"
   ]
  },
  {
   "cell_type": "code",
   "execution_count": 19,
   "metadata": {},
   "outputs": [
    {
     "name": "stdout",
     "output_type": "stream",
     "text": [
      "[Pipeline] ............ (step 1 of 7) Processing impute, total=   0.0s\n",
      "[Pipeline] ........ (step 2 of 7) Processing categories, total=   0.0s\n",
      "[Pipeline] ............ (step 3 of 7) Processing titles, total=   0.0s\n",
      "[Pipeline] ........... (step 4 of 7) Processing tickets, total=   0.0s\n",
      "[Pipeline] .............. (step 5 of 7) Processing ages, total=   0.0s\n",
      "[Pipeline] .......... (step 6 of 7) Processing encoders, total=   0.0s\n",
      "[Pipeline] ............. (step 7 of 7) Processing model, total=   0.0s\n"
     ]
    },
    {
     "data": {
      "text/plain": [
       "Pipeline(steps=[('impute',\n",
       "                 FunctionTransformer(func=<function impute_missing_values at 0x7fc591262700>,\n",
       "                                     kw_args={'cats': ['embarked'],\n",
       "                                              'nums': ['age', 'fare']})),\n",
       "                ('categories',\n",
       "                 FunctionTransformer(func=<function create_category_features at 0x7fc591262940>)),\n",
       "                ('titles',\n",
       "                 FunctionTransformer(func=<function create_title_features at 0x7fc591262c10>)),\n",
       "                ('tickets',\n",
       "                 FunctionT...\n",
       "                 ColumnTransformer(transformers=[('onehotencoder',\n",
       "                                                  OneHotEncoder(handle_unknown='ignore',\n",
       "                                                                sparse=False),\n",
       "                                                  ['pclass', 'name', 'sex',\n",
       "                                                   'cabin', 'embarked',\n",
       "                                                   'age_group', 'fare_group',\n",
       "                                                   'title', 'married_female',\n",
       "                                                   'travel_alone', 'adult']),\n",
       "                                                 ('standardscaler',\n",
       "                                                  StandardScaler(),\n",
       "                                                  ['age', 'sibsp', 'parch',\n",
       "                                                   'fare'])])),\n",
       "                ('model',\n",
       "                 LogisticRegression(C=5.0, max_iter=1000, solver='liblinear'))],\n",
       "         verbose=True)"
      ]
     },
     "execution_count": 19,
     "metadata": {},
     "output_type": "execute_result"
    }
   ],
   "source": [
    "pipe.fit(X_train, y_train)"
   ]
  },
  {
   "cell_type": "markdown",
   "metadata": {},
   "source": [
    "## 6. Model Performance"
   ]
  },
  {
   "cell_type": "code",
   "execution_count": 20,
   "metadata": {},
   "outputs": [
    {
     "name": "stdout",
     "output_type": "stream",
     "text": [
      "Accuracy: 0.8171641791044776\n",
      "F1 Score: 0.7609756097560977\n",
      "AUC: 0.8039439088518844\n"
     ]
    }
   ],
   "source": [
    "print(\"Accuracy:\", accuracy_score(y_test, pipe.predict(X_test)))\n",
    "print(\"F1 Score:\", f1_score(y_test, pipe.predict(X_test)))\n",
    "print(\"AUC:\", roc_auc_score(y_test, pipe.predict(X_test)))\n",
    "# confusion_matrix(y_test, pipe.predict(X_test))"
   ]
  },
  {
   "cell_type": "code",
   "execution_count": 21,
   "metadata": {},
   "outputs": [
    {
     "data": {
      "image/png": "[encoded data removed]",
      "text/plain": [
       "<Figure size 1296x576 with 1 Axes>"
      ]
     },
     "metadata": {},
     "output_type": "display_data"
    }
   ],
   "source": [
    "plot_roc_curve(pipe, X_test, y_test)\n",
    "plot([0, 1], [0, 1], 'k--');"
   ]
  },
  {
   "cell_type": "markdown",
   "metadata": {},
   "source": [
    "## 7. Competition Submission"
   ]
  },
  {
   "cell_type": "code",
   "execution_count": 22,
   "metadata": {},
   "outputs": [],
   "source": [
    "df_submission = read_csv(\"../data/raw/test.csv\")\n",
    "df_submission = df_submission.rename(columns=dict(zip(df_submission.columns, df_submission.columns.str.lower())))\n",
    "df_submission = df_submission.set_index(\"passengerid\")"
   ]
  },
  {
   "cell_type": "code",
   "execution_count": 34,
   "metadata": {},
   "outputs": [],
   "source": [
    "str_now = dt.now().strftime(\"%Y-%m-%d-%H-%M-%S\")\n",
    "DataFrame(\n",
    "    {\n",
    "        \"PassengerId\": df_submission.index,\n",
    "        \"Survived\": pipe.predict(df_submission[numerical + categorical])\n",
    "        }\n",
    "    ).to_csv(f\"../data/processed/{str_now}_submission.csv\", index=False)"
   ]
  },
  {
   "cell_type": "code",
   "execution_count": null,
   "metadata": {},
   "outputs": [],
   "source": []
  }
 ],
 "metadata": {
  "interpreter": {
   "hash": "074b9f724f1d9eaa72a7bf9448db882ca85c32b6a0c8eb634a4063877ce6f936"
  },
  "kernelspec": {
   "display_name": "Python 3.9.7 64-bit ('titanic-env-py397': conda)",
   "name": "python3"
  },
  "language_info": {
   "codemirror_mode": {
    "name": "ipython",
    "version": 3
   },
   "file_extension": ".py",
   "mimetype": "text/x-python",
   "name": "python",
   "nbconvert_exporter": "python",
   "pygments_lexer": "ipython3",
   "version": "3.9.7"
  },
  "orig_nbformat": 4
 },
 "nbformat": 4,
 "nbformat_minor": 2
}
