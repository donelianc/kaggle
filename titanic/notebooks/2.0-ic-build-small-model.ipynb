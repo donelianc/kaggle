{
 "cells": [
  {
   "cell_type": "markdown",
   "metadata": {},
   "source": [
    "## 0. Modules and Custom Functions"
   ]
  },
  {
   "cell_type": "code",
   "execution_count": 1,
   "metadata": {},
   "outputs": [],
   "source": [
    "from numpy import nan\n",
    "from pandas import read_csv, Categorical, cut\n",
    "from matplotlib.pyplot import style, rcParams"
   ]
  },
  {
   "cell_type": "code",
   "execution_count": 2,
   "metadata": {},
   "outputs": [],
   "source": [
    "style.use(\"ggplot\")\n",
    "ggcolors = rcParams['axes.prop_cycle'].by_key()['color']\n",
    "rcParams[\"figure.figsize\"] = (18, 8)"
   ]
  },
  {
   "cell_type": "code",
   "execution_count": 3,
   "metadata": {},
   "outputs": [],
   "source": [
    "def get_features(df):\n",
    "    \n",
    "    numerical = df.select_dtypes(include=[\"int64\", \"float64\"]).columns.tolist()\n",
    "    categorical = df.select_dtypes(include=[\"object\", \"category\"]).columns.tolist()\n",
    "    dates = df.select_dtypes(include=[\"datetime\", \"datetime64[ns]\"]).columns.tolist()\n",
    "    other = df.columns.difference(numerical + categorical + dates).tolist()\n",
    "    \n",
    "    return numerical, categorical, dates, other"
   ]
  },
  {
   "cell_type": "code",
   "execution_count": 4,
   "metadata": {},
   "outputs": [],
   "source": [
    "# df):\n",
    "# emoved = df[\"name\"].str.split(\",\").apply(lambda x: x[1]).copy()\n",
    "# stname_removed.str.split(\".\").apply(lambda x: x[0]).copy()\n",
    "# e = title.str.lower().str.strip().copy()\n",
    "# n_title.apply(lambda t: \"other\" if t not in [\"mr\", \"mrs\", \"ms\", \"miss\"] else t).copy()\n",
    "# \n",
    "\n",
    "\n",
    "def get_women_marital_status(gender, title):\n",
    "    if (gender == \"female\") and (title in [\"mrs\", \"ms\"]):\n",
    "        marital_status = True\n",
    "    elif gender == \"male\":\n",
    "        marital_status = None\n",
    "    else:\n",
    "        marital_status = False\n",
    "    return marital_status\n",
    "\n",
    "\n",
    "def was_adult(age):\n",
    "    if age is None:\n",
    "        output = None\n",
    "    else:\n",
    "        output = 18 < age\n",
    "    return output\n",
    "    "
   ]
  },
  {
   "cell_type": "markdown",
   "metadata": {},
   "source": [
    "## 1. Get Data"
   ]
  },
  {
   "cell_type": "code",
   "execution_count": 5,
   "metadata": {},
   "outputs": [],
   "source": [
    "data = read_csv(\"../data/raw/train.csv\")\n",
    "data = data.rename(columns=dict(zip(data.columns, data.columns.str.lower())))\n",
    "data = data.set_index(\"passengerid\")"
   ]
  },
  {
   "cell_type": "markdown",
   "metadata": {},
   "source": [
    "## 2. Data Transformation"
   ]
  },
  {
   "cell_type": "code",
   "execution_count": 6,
   "metadata": {},
   "outputs": [],
   "source": [
    "from sklearn.pipeline import Pipeline\n",
    "from sklearn.preprocessing import FunctionTransformer\n",
    "from sklearn.model_selection import train_test_split"
   ]
  },
  {
   "cell_type": "code",
   "execution_count": 7,
   "metadata": {},
   "outputs": [],
   "source": [
    "def create_category_features(df):\n",
    "    df_aux = df.copy()\n",
    "    df_aux.loc[:, \"pclass\"] = Categorical(df_aux[\"pclass\"].map({3:\"low\", 2:\"mid\", 1:\"high\"}), categories=[\"low\", \"mid\", \"high\"], ordered=True)\n",
    "    df_aux.loc[:, \"age_group\"] = cut(df_aux[\"age\"], range(0, 90, 10))\n",
    "    df_aux.loc[:, \"fare_group\"] = cut(df_aux[\"fare\"], range(0, 600, 50), include_lowest=True, right=False)\n",
    "    return df_aux\n",
    "\n",
    "\n",
    "def create_title_features(df):\n",
    "    df_aux = df.copy()\n",
    "    lastname_removed = df_aux[\"name\"].str.split(\",\").apply(lambda x: x[1])\n",
    "    title = lastname_removed.str.split(\".\").apply(lambda x: x[0])\n",
    "    clean_title = title.str.lower().str.strip()\n",
    "    df_aux.loc[:, \"title\"] = clean_title.apply(lambda t: \"other\" if t not in [\"mr\", \"mrs\", \"ms\", \"miss\"] else t)\n",
    "    df_aux.loc[:, \"married_female\"] = df_aux.apply(lambda x: get_women_marital_status(x[\"sex\"], x[\"title\"]), axis=1)\n",
    "    return df_aux\n",
    "\n",
    "\n",
    "def create_ticket_features(df):\n",
    "    df[\"travel_alone\"] = ~df.duplicated(subset=['ticket'], keep=False)\n",
    "    return df\n",
    "\n",
    "\n",
    "def create_age_features(df):\n",
    "    df[\"adult\"] = nan\n",
    "    df.loc[~df[\"age\"].isna(), \"adult\"] = df[\"age\"][~df[\"age\"].isna()].apply(lambda x: 18 < x).copy()\n",
    "    return df"
   ]
  },
  {
   "cell_type": "code",
   "execution_count": 8,
   "metadata": {},
   "outputs": [],
   "source": [
    "get_categories = FunctionTransformer(create_category_features, validate=False)\n",
    "get_titles = FunctionTransformer(create_title_features, validate=False)\n",
    "get_tickets = FunctionTransformer(create_ticket_features, validate=False)\n",
    "get_ages = FunctionTransformer(create_age_features, validate=False)"
   ]
  },
  {
   "cell_type": "code",
   "execution_count": 9,
   "metadata": {},
   "outputs": [],
   "source": [
    "pipe = Pipeline(steps=[\n",
    "    (\"categories\", get_categories),\n",
    "    (\"titles\", get_titles),\n",
    "    # (\"tickets\", get_tickets),\n",
    "    # (\"ages\", get_ages)\n",
    "], verbose=True)"
   ]
  },
  {
   "cell_type": "code",
   "execution_count": 10,
   "metadata": {},
   "outputs": [],
   "source": [
    "numerical, categorical, dates, other = get_features(data.drop(\"survived\", axis=1, inplace=False))"
   ]
  },
  {
   "cell_type": "code",
   "execution_count": 11,
   "metadata": {},
   "outputs": [],
   "source": [
    "df_model = data.copy()\n",
    "\n",
    "X = df_model[numerical + categorical]\n",
    "y = df_model[\"survived\"]\n",
    "X_train, X_test, y_train, y_test = train_test_split(X, y, test_size = .3)"
   ]
  },
  {
   "cell_type": "code",
   "execution_count": 12,
   "metadata": {},
   "outputs": [
    {
     "name": "stdout",
     "output_type": "stream",
     "text": [
      "[Pipeline] ........ (step 1 of 2) Processing categories, total=   0.0s\n",
      "[Pipeline] ............ (step 2 of 2) Processing titles, total=   0.0s\n"
     ]
    },
    {
     "data": {
      "text/plain": [
       "Pipeline(steps=[('categories',\n",
       "                 FunctionTransformer(func=<function create_category_features at 0x7fea5fb58af0>)),\n",
       "                ('titles',\n",
       "                 FunctionTransformer(func=<function create_title_features at 0x7fea5fb69790>))],\n",
       "         verbose=True)"
      ]
     },
     "execution_count": 12,
     "metadata": {},
     "output_type": "execute_result"
    }
   ],
   "source": [
    "pipe.fit(X_train, y_train)"
   ]
  },
  {
   "cell_type": "code",
   "execution_count": null,
   "metadata": {},
   "outputs": [],
   "source": []
  }
 ],
 "metadata": {
  "interpreter": {
   "hash": "074b9f724f1d9eaa72a7bf9448db882ca85c32b6a0c8eb634a4063877ce6f936"
  },
  "kernelspec": {
   "display_name": "Python 3.9.7 64-bit ('titanic-env-py397': conda)",
   "name": "python3"
  },
  "language_info": {
   "codemirror_mode": {
    "name": "ipython",
    "version": 3
   },
   "file_extension": ".py",
   "mimetype": "text/x-python",
   "name": "python",
   "nbconvert_exporter": "python",
   "pygments_lexer": "ipython3",
   "version": "3.9.7"
  },
  "orig_nbformat": 4
 },
 "nbformat": 4,
 "nbformat_minor": 2
}
